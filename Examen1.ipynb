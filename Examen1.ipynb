{
  "nbformat": 4,
  "nbformat_minor": 0,
  "metadata": {
    "colab": {
      "provenance": [],
      "authorship_tag": "ABX9TyN05StAQoPORNbJA5z6zAud",
      "include_colab_link": true
    },
    "kernelspec": {
      "name": "python3",
      "display_name": "Python 3"
    },
    "language_info": {
      "name": "python"
    }
  },
  "cells": [
    {
      "cell_type": "markdown",
      "metadata": {
        "id": "view-in-github",
        "colab_type": "text"
      },
      "source": [
        "<a href=\"https://colab.research.google.com/github/URIEL-GB/AlgebraLineal/blob/main/Examen1.ipynb\" target=\"_parent\"><img src=\"https://colab.research.google.com/assets/colab-badge.svg\" alt=\"Open In Colab\"/></a>"
      ]
    },
    {
      "cell_type": "code",
      "source": [
        "!pip install --target=$nb_path nacal\n",
        "from nacal import *\n",
        "from IPython.display import display, Math, Latex\n",
        "import math"
      ],
      "metadata": {
        "colab": {
          "base_uri": "https://localhost:8080/"
        },
        "id": "Bt5Y6D-_FODE",
        "outputId": "d94b3e8a-0ffc-4722-a1cb-e6edb6ce4d76"
      },
      "execution_count": null,
      "outputs": [
        {
          "output_type": "stream",
          "name": "stdout",
          "text": [
            "Requirement already satisfied: nacal in /usr/local/lib/python3.10/dist-packages (0.2.1)\n",
            "Requirement already satisfied: sympy>=1.1.0 in /usr/local/lib/python3.10/dist-packages (from nacal) (1.12.1)\n",
            "Requirement already satisfied: mpmath<1.4.0,>=1.1.0 in /usr/local/lib/python3.10/dist-packages (from sympy>=1.1.0->nacal) (1.3.0)\n"
          ]
        }
      ]
    },
    {
      "cell_type": "markdown",
      "source": [
        "**1. Genere los vectores $a$ y $ {b}$:**"
      ],
      "metadata": {
        "id": "JzhT1nqWNSak"
      }
    },
    {
      "cell_type": "markdown",
      "source": [
        "-   el vector ${a}$ está formado por la lista de números: 1, 4, 9, 2, -5, π\n",
        "-   el vector ${b}$ está formado por la lista de números: 1, 2, 1, 0, 0.01,  $\\sqrt 2$\n",
        "-   súmelos"
      ],
      "metadata": {
        "id": "iN_Kzj2-OEFY"
      }
    },
    {
      "cell_type": "code",
      "source": [
        "a=Vector([1,4,9,2,-5,math.pi ])\n",
        "b=Vector([1,2,1,0,0.01,math.sqrt(2)  ])\n",
        "display(Latex(latex(a+b)))"
      ],
      "metadata": {
        "colab": {
          "base_uri": "https://localhost:8080/",
          "height": 139
        },
        "id": "ubmriEH_DuoF",
        "outputId": "bc475f4d-d809-4239-b044-64fdddbd8208"
      },
      "execution_count": null,
      "outputs": [
        {
          "output_type": "display_data",
          "data": {
            "text/plain": [
              "<IPython.core.display.Latex object>"
            ],
            "text/latex": "\\begin{pmatrix}2\\\\ 6\\\\ 10\\\\ 2\\\\ -4.99\\\\ 4.55580621596289\\end{pmatrix}"
          },
          "metadata": {}
        }
      ]
    },
    {
      "cell_type": "markdown",
      "source": [
        "**2. Proporcione ejemplos de matrices 3 por 3 no nulas de los siguientes\n",
        "tipos de matrices:**"
      ],
      "metadata": {
        "id": "mzhtQL9SNbhS"
      }
    },
    {
      "cell_type": "markdown",
      "source": [
        "-   Una matriz diagonal\n",
        "-   Una matriz simétrica"
      ],
      "metadata": {
        "id": "q643xj6yPIk4"
      }
    },
    {
      "cell_type": "code",
      "source": [
        "v = Vector( [1,2,3] )\n",
        "print(\"Matriz diagonal\")\n",
        "display(Latex(latex(v.diag())))\n",
        "print()\n",
        "e = Vector( [1,2,3] )\n",
        "f = Vector( [2,4,5] )\n",
        "g = Vector( [3,5,6] )\n",
        "B = Matrix( [e,f,g] )\n",
        "print(\"Matriz simetrica\")\n",
        "display(Latex(latex(B)))\n",
        "print(\"A = A^T\")\n",
        "display(Latex(latex(~B)))\n",
        "print()\n"
      ],
      "metadata": {
        "colab": {
          "base_uri": "https://localhost:8080/",
          "height": 287
        },
        "id": "JGuJdJVxGHeM",
        "outputId": "d84d6d4e-1c02-4c07-a538-9f06fe84b225"
      },
      "execution_count": null,
      "outputs": [
        {
          "output_type": "stream",
          "name": "stdout",
          "text": [
            "Matriz diagonal\n"
          ]
        },
        {
          "output_type": "display_data",
          "data": {
            "text/plain": [
              "<IPython.core.display.Latex object>"
            ],
            "text/latex": "\\left[ \\begin{array}{ccc}1&0&0\\\\0&2&0\\\\0&0&3\\\\ \\end{array} \\right]"
          },
          "metadata": {}
        },
        {
          "output_type": "stream",
          "name": "stdout",
          "text": [
            "\n",
            "Matriz simetrica\n"
          ]
        },
        {
          "output_type": "display_data",
          "data": {
            "text/plain": [
              "<IPython.core.display.Latex object>"
            ],
            "text/latex": "\\left[ \\begin{array}{ccc}1&2&3\\\\2&4&5\\\\3&5&6\\\\ \\end{array} \\right]"
          },
          "metadata": {}
        },
        {
          "output_type": "stream",
          "name": "stdout",
          "text": [
            "A = A^T\n"
          ]
        },
        {
          "output_type": "display_data",
          "data": {
            "text/plain": [
              "<IPython.core.display.Latex object>"
            ],
            "text/latex": "\\left[ \\begin{array}{ccc}1&2&3\\\\2&4&5\\\\3&5&6\\\\ \\end{array} \\right]"
          },
          "metadata": {}
        },
        {
          "output_type": "stream",
          "name": "stdout",
          "text": [
            "\n"
          ]
        }
      ]
    },
    {
      "cell_type": "markdown",
      "source": [
        "**3. Cree la matriz**"
      ],
      "metadata": {
        "id": "NTgUJqMVNiS6"
      }
    },
    {
      "cell_type": "markdown",
      "source": [
        "$${A}=\\begin{bmatrix}1&0&0&-1\\\\2&0&7&0\\\\-4&3&3&0\\\\0&3&4&1\\\\7&1&2&1\\end{bmatrix}$$\n",
        "\n",
        "Calcule el siguiente vector: 3 veces la primera columna de $A$\n",
        "mas la segunda columna de $A$ menos 2 veces la tercera columna\n",
        "menos 3 veces la última columna de $A$"
      ],
      "metadata": {
        "id": "fDUtNspAR2f6"
      }
    },
    {
      "cell_type": "code",
      "source": [
        "a = Vector( [1,2,-4,0,7] )\n",
        "b = Vector( [0,0,3,3,1] )\n",
        "c = Vector( [0,7,3,4,2] )\n",
        "d = Vector( [-1,0,0,1,1] )\n",
        "A = Matrix( [a,b,c,d] )\n",
        "print(\"Matrix A\")\n",
        "display(Latex(latex(A)))\n",
        "print()\n",
        "print(\"3 veces la primera columna de  A\")\n",
        "display(Latex(latex((A|1)*3)))\n",
        "print()\n",
        "print(\"Menos la segunda columna de  A\")\n",
        "display(Latex(latex(((A|1)*3)-(A|2))))\n",
        "print()\n",
        "print(\"Mas 2 veces la tercera columna\")\n",
        "display(Latex(latex(((A|1)*3)-(A|2)+((A|3)*2))))\n",
        "print()\n",
        "print(\"Menos 3 veces la última columna de  A\")\n",
        "display(Latex(latex(((A|1)*3)-(A|2)+((A|3)*2)-((A|4)*3))))\n",
        "print()\n",
        "print(\"Vector resultante\")\n",
        "display(Latex(latex(((A|1)*3)-(A|2)+((A|3)*2)-((A|4)*3))))"
      ],
      "metadata": {
        "colab": {
          "base_uri": "https://localhost:8080/",
          "height": 818
        },
        "id": "E1rHHq2iHfVC",
        "outputId": "7007bed8-79d2-47de-cd41-34ff5b8b276c"
      },
      "execution_count": null,
      "outputs": [
        {
          "output_type": "stream",
          "name": "stdout",
          "text": [
            "Matrix A\n"
          ]
        },
        {
          "output_type": "display_data",
          "data": {
            "text/plain": [
              "<IPython.core.display.Latex object>"
            ],
            "text/latex": "\\left[ \\begin{array}{cccc}1&0&0&-1\\\\2&0&7&0\\\\-4&3&3&0\\\\0&3&4&1\\\\7&1&2&1\\\\ \\end{array} \\right]"
          },
          "metadata": {}
        },
        {
          "output_type": "stream",
          "name": "stdout",
          "text": [
            "\n",
            "3 veces la primera columna de  A\n"
          ]
        },
        {
          "output_type": "display_data",
          "data": {
            "text/plain": [
              "<IPython.core.display.Latex object>"
            ],
            "text/latex": "\\begin{pmatrix}3\\\\ 6\\\\ -12\\\\ 0\\\\ 21\\end{pmatrix}"
          },
          "metadata": {}
        },
        {
          "output_type": "stream",
          "name": "stdout",
          "text": [
            "\n",
            "Menos la segunda columna de  A\n"
          ]
        },
        {
          "output_type": "display_data",
          "data": {
            "text/plain": [
              "<IPython.core.display.Latex object>"
            ],
            "text/latex": "\\begin{pmatrix}3\\\\ 6\\\\ -15\\\\ -3\\\\ 20\\end{pmatrix}"
          },
          "metadata": {}
        },
        {
          "output_type": "stream",
          "name": "stdout",
          "text": [
            "\n",
            "Mas 2 veces la tercera columna\n"
          ]
        },
        {
          "output_type": "display_data",
          "data": {
            "text/plain": [
              "<IPython.core.display.Latex object>"
            ],
            "text/latex": "\\begin{pmatrix}3\\\\ 20\\\\ -9\\\\ 5\\\\ 24\\end{pmatrix}"
          },
          "metadata": {}
        },
        {
          "output_type": "stream",
          "name": "stdout",
          "text": [
            "\n",
            "Menos 3 veces la última columna de  A\n"
          ]
        },
        {
          "output_type": "display_data",
          "data": {
            "text/plain": [
              "<IPython.core.display.Latex object>"
            ],
            "text/latex": "\\begin{pmatrix}6\\\\ 20\\\\ -9\\\\ 2\\\\ 21\\end{pmatrix}"
          },
          "metadata": {}
        },
        {
          "output_type": "stream",
          "name": "stdout",
          "text": [
            "\n",
            "Vector resultante\n"
          ]
        },
        {
          "output_type": "display_data",
          "data": {
            "text/plain": [
              "<IPython.core.display.Latex object>"
            ],
            "text/latex": "\\begin{pmatrix}6\\\\ 20\\\\ -9\\\\ 2\\\\ 21\\end{pmatrix}"
          },
          "metadata": {}
        }
      ]
    },
    {
      "cell_type": "markdown",
      "source": [
        "**4. Matriz por vector (combinaciones lineales de las columnas de una matriz)**"
      ],
      "metadata": {
        "id": "ki52-_g0NoIL"
      }
    },
    {
      "cell_type": "markdown",
      "source": [
        "Considere los vectores ${x}=(1, 1, -2)$, ${y}=(1, -2, 1)$\n",
        "\n",
        "y\n",
        "${z}=(-2, 1, 1)$ y verifique que\n",
        "$2{x}+2{y}+2{z}={0}$\n",
        "\n",
        "que resultado da : $4x+4y+4z$\n",
        "\n",
        "y que resultado da:  $-3x-3y-3z$"
      ],
      "metadata": {
        "id": "BmqyKZYXTXig"
      }
    },
    {
      "cell_type": "code",
      "source": [
        "x = Vector( [1,1,-2] )\n",
        "y = Vector( [1,-2,1] )\n",
        "z = Vector( [-2,1,1] )\n",
        "print(\"2x+2y+2z=0\")\n",
        "display(Latex(latex((2*x)+(2*y)+(2*z))))\n",
        "print(\"4x+4y+4z\")\n",
        "display(Latex(latex((4*x)+(4*y)+(4*z))))\n",
        "print(\"-3x-3y-3z\")\n",
        "display(Latex(latex((-3*x)-(3*y)-(3*z))))"
      ],
      "metadata": {
        "colab": {
          "base_uri": "https://localhost:8080/",
          "height": 252
        },
        "id": "eVw_aPx_KoGb",
        "outputId": "de127692-9463-48dd-a176-34836b44a497"
      },
      "execution_count": null,
      "outputs": [
        {
          "output_type": "stream",
          "name": "stdout",
          "text": [
            "2x+2y+2z=0\n"
          ]
        },
        {
          "output_type": "display_data",
          "data": {
            "text/plain": [
              "<IPython.core.display.Latex object>"
            ],
            "text/latex": "\\begin{pmatrix}0\\\\ 0\\\\ 0\\end{pmatrix}"
          },
          "metadata": {}
        },
        {
          "output_type": "stream",
          "name": "stdout",
          "text": [
            "4x+4y+4z\n"
          ]
        },
        {
          "output_type": "display_data",
          "data": {
            "text/plain": [
              "<IPython.core.display.Latex object>"
            ],
            "text/latex": "\\begin{pmatrix}0\\\\ 0\\\\ 0\\end{pmatrix}"
          },
          "metadata": {}
        },
        {
          "output_type": "stream",
          "name": "stdout",
          "text": [
            "-3x-3y-3z\n"
          ]
        },
        {
          "output_type": "display_data",
          "data": {
            "text/plain": [
              "<IPython.core.display.Latex object>"
            ],
            "text/latex": "\\begin{pmatrix}0\\\\ 0\\\\ 0\\end{pmatrix}"
          },
          "metadata": {}
        }
      ]
    },
    {
      "cell_type": "markdown",
      "source": [
        "**5. Escribe una matriz C del mismo orden que A y verifica que**"
      ],
      "metadata": {
        "id": "S0FLiXIZV4ck"
      }
    },
    {
      "cell_type": "markdown",
      "source": [
        "$$\n",
        "({A}{C})^T={C}^T{A}^T\n",
        "$$"
      ],
      "metadata": {
        "id": "2r55xrs2V9Pr"
      }
    },
    {
      "cell_type": "code",
      "source": [
        "print(\"Matrix A\")\n",
        "display(Latex(latex(B)))\n",
        "print()\n",
        "x = Vector( [1,2,3] )\n",
        "y = Vector( [2,4,5] )\n",
        "z = Vector( [3,5,6] )\n",
        "C = Matrix( [e,f,g] )\n",
        "print(\"Matriz C\")\n",
        "display(Latex(latex(C)))\n"
      ],
      "metadata": {
        "colab": {
          "base_uri": "https://localhost:8080/",
          "height": 191
        },
        "id": "-36VDAx4dBeQ",
        "outputId": "67d96422-86d1-4c2c-967b-91eef33e8a9d"
      },
      "execution_count": null,
      "outputs": [
        {
          "output_type": "stream",
          "name": "stdout",
          "text": [
            "Matrix A\n"
          ]
        },
        {
          "output_type": "display_data",
          "data": {
            "text/plain": [
              "<IPython.core.display.Latex object>"
            ],
            "text/latex": "\\left[ \\begin{array}{ccc}1&2&3\\\\2&4&5\\\\3&5&6\\\\ \\end{array} \\right]"
          },
          "metadata": {}
        },
        {
          "output_type": "stream",
          "name": "stdout",
          "text": [
            "\n",
            "Matriz C\n"
          ]
        },
        {
          "output_type": "display_data",
          "data": {
            "text/plain": [
              "<IPython.core.display.Latex object>"
            ],
            "text/latex": "\\left[ \\begin{array}{ccc}1&2&3\\\\2&4&5\\\\3&5&6\\\\ \\end{array} \\right]"
          },
          "metadata": {}
        }
      ]
    },
    {
      "cell_type": "code",
      "source": [
        "print(\"(A+C)^T\")\n",
        "display(Latex(latex(~(B+C))))\n",
        "print()\n",
        "print(\"A^T+C^T\")\n",
        "display(Latex(latex(~B+~C)))\n",
        "print()"
      ],
      "metadata": {
        "colab": {
          "base_uri": "https://localhost:8080/",
          "height": 208
        },
        "id": "EXbUojk7div4",
        "outputId": "3a849ceb-8a78-4519-f607-d838dcb276e0"
      },
      "execution_count": null,
      "outputs": [
        {
          "output_type": "stream",
          "name": "stdout",
          "text": [
            "(A+B)^T\n"
          ]
        },
        {
          "output_type": "display_data",
          "data": {
            "text/plain": [
              "<IPython.core.display.Latex object>"
            ],
            "text/latex": "\\left[ \\begin{array}{ccc}2&4&6\\\\4&8&10\\\\6&10&12\\\\ \\end{array} \\right]"
          },
          "metadata": {}
        },
        {
          "output_type": "stream",
          "name": "stdout",
          "text": [
            "\n",
            "A^T+B^T\n"
          ]
        },
        {
          "output_type": "display_data",
          "data": {
            "text/plain": [
              "<IPython.core.display.Latex object>"
            ],
            "text/latex": "\\left[ \\begin{array}{ccc}2&4&6\\\\4&8&10\\\\6&10&12\\\\ \\end{array} \\right]"
          },
          "metadata": {}
        },
        {
          "output_type": "stream",
          "name": "stdout",
          "text": [
            "\n"
          ]
        }
      ]
    },
    {
      "cell_type": "markdown",
      "source": [
        "**6. Verifique que\n",
        "$\n",
        "{A}{I}={A}\n",
        "$\n",
        "y que\n",
        "$\n",
        "{I}{A}={A}\n",
        "$**"
      ],
      "metadata": {
        "id": "1pUKiRjPd29u"
      }
    },
    {
      "cell_type": "code",
      "source": [
        "print(\"Matrix A\")\n",
        "display(Latex(latex(B)))\n",
        "print(\"Matrix I\")\n",
        "display(Latex(latex((I)(3))))\n",
        "print()\n",
        "print(\"Matrix AI\")\n",
        "display(Latex(latex(B*I(3))))\n",
        "print()\n",
        "print(\"Matrix IA\")\n",
        "display(Latex(latex(I(3)*B)))"
      ],
      "metadata": {
        "colab": {
          "base_uri": "https://localhost:8080/",
          "height": 365
        },
        "id": "ZJvwqgJCnV14",
        "outputId": "bf8a2b41-4963-4295-d7c3-626c7c9129a5"
      },
      "execution_count": null,
      "outputs": [
        {
          "output_type": "stream",
          "name": "stdout",
          "text": [
            "Matrix A\n"
          ]
        },
        {
          "output_type": "display_data",
          "data": {
            "text/plain": [
              "<IPython.core.display.Latex object>"
            ],
            "text/latex": "\\left[ \\begin{array}{ccc}1&2&3\\\\2&4&5\\\\3&5&6\\\\ \\end{array} \\right]"
          },
          "metadata": {}
        },
        {
          "output_type": "stream",
          "name": "stdout",
          "text": [
            "Matrix I\n"
          ]
        },
        {
          "output_type": "display_data",
          "data": {
            "text/plain": [
              "<IPython.core.display.Latex object>"
            ],
            "text/latex": "\\left[ \\begin{array}{ccc}1&0&0\\\\0&1&0\\\\0&0&1\\\\ \\end{array} \\right]"
          },
          "metadata": {}
        },
        {
          "output_type": "stream",
          "name": "stdout",
          "text": [
            "\n",
            "Matrix AI\n"
          ]
        },
        {
          "output_type": "display_data",
          "data": {
            "text/plain": [
              "<IPython.core.display.Latex object>"
            ],
            "text/latex": "\\left[ \\begin{array}{ccc}1&2&3\\\\2&4&5\\\\3&5&6\\\\ \\end{array} \\right]"
          },
          "metadata": {}
        },
        {
          "output_type": "stream",
          "name": "stdout",
          "text": [
            "\n",
            "Matrix IA\n"
          ]
        },
        {
          "output_type": "display_data",
          "data": {
            "text/plain": [
              "<IPython.core.display.Latex object>"
            ],
            "text/latex": "\\left[ \\begin{array}{ccc}1&2&3\\\\2&4&5\\\\3&5&6\\\\ \\end{array} \\right]"
          },
          "metadata": {}
        }
      ]
    },
    {
      "cell_type": "markdown",
      "source": [
        "**7. Producto punto\n",
        "Considere los vectores ${x}=(1, 1, -2)$, ${y}=(1, -2, 1)$\n",
        "calcula el producto punto**"
      ],
      "metadata": {
        "id": "3RkmnDVueXbx"
      }
    },
    {
      "cell_type": "code",
      "source": [
        "x = Vector( [1,1,-2] )\n",
        "y = Vector( [1,-2,1] )\n",
        "display(Latex(latex(x*y)))"
      ],
      "metadata": {
        "colab": {
          "base_uri": "https://localhost:8080/",
          "height": 37
        },
        "id": "FcqCEIlWm1QO",
        "outputId": "2caaaf2f-5096-42cd-c665-dd7712eab5ef"
      },
      "execution_count": null,
      "outputs": [
        {
          "output_type": "display_data",
          "data": {
            "text/plain": [
              "<IPython.core.display.Latex object>"
            ],
            "text/latex": "-3"
          },
          "metadata": {}
        }
      ]
    }
  ]
}