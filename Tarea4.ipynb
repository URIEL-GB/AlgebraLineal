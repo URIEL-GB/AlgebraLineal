{
  "nbformat": 4,
  "nbformat_minor": 0,
  "metadata": {
    "colab": {
      "provenance": [],
      "authorship_tag": "ABX9TyOtuv6SuHf850tp/hTukeFg",
      "include_colab_link": true
    },
    "kernelspec": {
      "name": "python3",
      "display_name": "Python 3"
    },
    "language_info": {
      "name": "python"
    }
  },
  "cells": [
    {
      "cell_type": "markdown",
      "metadata": {
        "id": "view-in-github",
        "colab_type": "text"
      },
      "source": [
        "<a href=\"https://colab.research.google.com/github/URIEL-GB/AlgebraLineal/blob/main/Tarea4.ipynb\" target=\"_parent\"><img src=\"https://colab.research.google.com/assets/colab-badge.svg\" alt=\"Open In Colab\"/></a>"
      ]
    },
    {
      "cell_type": "code",
      "source": [
        "!pip install --target=$nb_path nacal\n",
        "from nacal import *\n",
        "from IPython.display import display, Math, Latex"
      ],
      "metadata": {
        "colab": {
          "base_uri": "https://localhost:8080/"
        },
        "id": "1HctoCns78Jy",
        "outputId": "c578f80e-4781-486d-a506-e2bb925ba8bf"
      },
      "execution_count": null,
      "outputs": [
        {
          "output_type": "stream",
          "name": "stdout",
          "text": [
            "Collecting nacal\n",
            "  Downloading nacal-0.1.30-py3-none-any.whl (33 kB)\n",
            "Requirement already satisfied: sympy>=1.1.0 in /usr/local/lib/python3.10/dist-packages (from nacal) (1.12)\n",
            "Requirement already satisfied: mpmath>=0.19 in /usr/local/lib/python3.10/dist-packages (from sympy>=1.1.0->nacal) (1.3.0)\n",
            "Installing collected packages: nacal\n",
            "Successfully installed nacal-0.1.30\n"
          ]
        }
      ]
    },
    {
      "cell_type": "markdown",
      "source": [
        "# PRIMER EJERCICIO"
      ],
      "metadata": {
        "id": "0D_LsJBb87ZT"
      }
    },
    {
      "cell_type": "code",
      "source": [
        "a = Vector( [1,2,0,0,0] )\n",
        "b = Vector( [0,0,3,3,1] )\n",
        "c = Vector( [0,0,3,4,2] )\n",
        "d = Vector( [0,0,0,1,1] )\n",
        "A = Matrix( [a,b,c,d] )\n",
        "print(\"Matrix A\")\n",
        "display(Latex(latex(A)))\n",
        "print()"
      ],
      "metadata": {
        "colab": {
          "base_uri": "https://localhost:8080/",
          "height": 153
        },
        "id": "U8syuhQq9bbf",
        "outputId": "9b81d5f0-edcf-4566-9e09-c07e5057b36b"
      },
      "execution_count": null,
      "outputs": [
        {
          "output_type": "stream",
          "name": "stdout",
          "text": [
            "Matrix A\n"
          ]
        },
        {
          "output_type": "display_data",
          "data": {
            "text/plain": [
              "<IPython.core.display.Latex object>"
            ],
            "text/latex": "\\left[ \\begin{array}{cccc}1&0&0&0\\\\2&0&0&0\\\\0&3&3&0\\\\0&3&4&1\\\\0&1&2&1\\\\ \\end{array} \\right]"
          },
          "metadata": {}
        },
        {
          "output_type": "stream",
          "name": "stdout",
          "text": [
            "\n"
          ]
        }
      ]
    },
    {
      "cell_type": "markdown",
      "source": [
        "Cree a partir de ${A}$ una matriz cuya única columna sea la\n",
        "primera columna de ${A}$"
      ],
      "metadata": {
        "id": "o26RLC3scwNM"
      }
    },
    {
      "cell_type": "code",
      "source": [
        "display(Latex(latex(A|1)))"
      ],
      "metadata": {
        "colab": {
          "base_uri": "https://localhost:8080/",
          "height": 119
        },
        "id": "nAtVetDMeNvJ",
        "outputId": "43fd13df-64e4-46f0-dd55-e2dc8cc3cfbc"
      },
      "execution_count": null,
      "outputs": [
        {
          "output_type": "display_data",
          "data": {
            "text/plain": [
              "<IPython.core.display.Latex object>"
            ],
            "text/latex": "\\begin{pmatrix}1\\\\ 2\\\\ 0\\\\ 0\\\\ 0\\end{pmatrix}"
          },
          "metadata": {}
        }
      ]
    },
    {
      "cell_type": "markdown",
      "source": [
        "Cree a partir de ${A}$ una matriz cuya única columna sea la segunda\n",
        "fila de ${A}$"
      ],
      "metadata": {
        "id": "wa7hx_yWijHQ"
      }
    },
    {
      "cell_type": "code",
      "source": [
        "display(Latex(latex(~A|2)))"
      ],
      "metadata": {
        "colab": {
          "base_uri": "https://localhost:8080/",
          "height": 98
        },
        "id": "TiOZTo4kirc6",
        "outputId": "17aaee49-1bf0-4023-bb52-e66f22becad4"
      },
      "execution_count": null,
      "outputs": [
        {
          "output_type": "display_data",
          "data": {
            "text/plain": [
              "<IPython.core.display.Latex object>"
            ],
            "text/latex": "\\begin{pmatrix}2\\\\ 0\\\\ 0\\\\ 0\\end{pmatrix}"
          },
          "metadata": {}
        }
      ]
    },
    {
      "cell_type": "markdown",
      "source": [
        "Cree a partir de $A$ una matriz cuya única fila sea la primera\n",
        "fila de $A$\n",
        "\n"
      ],
      "metadata": {
        "id": "6pKlG3v9f0Sv"
      }
    },
    {
      "cell_type": "code",
      "source": [
        "display(Latex(latex(1|A)))"
      ],
      "metadata": {
        "colab": {
          "base_uri": "https://localhost:8080/",
          "height": 38
        },
        "id": "xtENKk5ff-Au",
        "outputId": "8a330322-443f-4d78-cc00-7e6c4c24a548"
      },
      "execution_count": null,
      "outputs": [
        {
          "output_type": "display_data",
          "data": {
            "text/plain": [
              "<IPython.core.display.Latex object>"
            ],
            "text/latex": "\\begin{pmatrix}1,& 0,& 0,& 0,\\end{pmatrix}"
          },
          "metadata": {}
        }
      ]
    },
    {
      "cell_type": "markdown",
      "source": [
        "# SEGUNDO EJERCICIO"
      ],
      "metadata": {
        "id": "AusDQ8HZhON8"
      }
    },
    {
      "cell_type": "markdown",
      "source": [
        "Calcule el siguiente vector: 3 veces la primera columna de $A$\n",
        "menos la segunda columna de $A$ mas 2 veces la tercera columna\n",
        "menos 3 veces la última columna de $A$"
      ],
      "metadata": {
        "id": "uRzt_Y3chges"
      }
    },
    {
      "cell_type": "code",
      "source": [
        "print(\"Matrix A\")\n",
        "display(Latex(latex(A)))\n",
        "print()\n",
        "print(\"3 veces la primera columna de  A\")\n",
        "display(Latex(latex((A|1)*3)))\n",
        "print()\n",
        "print(\"Menos la segunda columna de  A\")\n",
        "display(Latex(latex(((A|1)*3)-(A|2))))\n",
        "print()\n",
        "print(\"Mas 2 veces la tercera columna\")\n",
        "display(Latex(latex(((A|1)*3)-(A|2)+((A|3)*2))))\n",
        "print()\n",
        "print(\"Menos 3 veces la última columna de  A\")\n",
        "display(Latex(latex(((A|1)*3)-(A|2)+((A|3)*2)-((A|4)*3))))\n",
        "print()\n",
        "print(\"Vector resultante\")\n",
        "display(Latex(latex(((A|1)*3)-(A|2)+((A|3)*2)-((A|4)*3))))"
      ],
      "metadata": {
        "colab": {
          "base_uri": "https://localhost:8080/",
          "height": 818
        },
        "id": "ud1X6wgjhZfs",
        "outputId": "aea44243-8201-438f-bb7e-e81d7bec17d2"
      },
      "execution_count": null,
      "outputs": [
        {
          "output_type": "stream",
          "name": "stdout",
          "text": [
            "Matrix A\n"
          ]
        },
        {
          "output_type": "display_data",
          "data": {
            "text/plain": [
              "<IPython.core.display.Latex object>"
            ],
            "text/latex": "\\left[ \\begin{array}{cccc}1&0&0&0\\\\2&0&0&0\\\\0&3&3&0\\\\0&3&4&1\\\\0&1&2&1\\\\ \\end{array} \\right]"
          },
          "metadata": {}
        },
        {
          "output_type": "stream",
          "name": "stdout",
          "text": [
            "\n",
            "3 veces la primera columna de  A\n"
          ]
        },
        {
          "output_type": "display_data",
          "data": {
            "text/plain": [
              "<IPython.core.display.Latex object>"
            ],
            "text/latex": "\\begin{pmatrix}3\\\\ 6\\\\ 0\\\\ 0\\\\ 0\\end{pmatrix}"
          },
          "metadata": {}
        },
        {
          "output_type": "stream",
          "name": "stdout",
          "text": [
            "\n",
            "Menos la segunda columna de  A\n"
          ]
        },
        {
          "output_type": "display_data",
          "data": {
            "text/plain": [
              "<IPython.core.display.Latex object>"
            ],
            "text/latex": "\\begin{pmatrix}3\\\\ 6\\\\ -3\\\\ -3\\\\ -1\\end{pmatrix}"
          },
          "metadata": {}
        },
        {
          "output_type": "stream",
          "name": "stdout",
          "text": [
            "\n",
            "Mas 2 veces la tercera columna\n"
          ]
        },
        {
          "output_type": "display_data",
          "data": {
            "text/plain": [
              "<IPython.core.display.Latex object>"
            ],
            "text/latex": "\\begin{pmatrix}3\\\\ 6\\\\ 3\\\\ 5\\\\ 3\\end{pmatrix}"
          },
          "metadata": {}
        },
        {
          "output_type": "stream",
          "name": "stdout",
          "text": [
            "\n",
            "Menos 3 veces la última columna de  A\n"
          ]
        },
        {
          "output_type": "display_data",
          "data": {
            "text/plain": [
              "<IPython.core.display.Latex object>"
            ],
            "text/latex": "\\begin{pmatrix}3\\\\ 6\\\\ 3\\\\ 2\\\\ 0\\end{pmatrix}"
          },
          "metadata": {}
        },
        {
          "output_type": "stream",
          "name": "stdout",
          "text": [
            "\n",
            "Vector resultante\n"
          ]
        },
        {
          "output_type": "display_data",
          "data": {
            "text/plain": [
              "<IPython.core.display.Latex object>"
            ],
            "text/latex": "\\begin{pmatrix}3\\\\ 6\\\\ 3\\\\ 2\\\\ 0\\end{pmatrix}"
          },
          "metadata": {}
        }
      ]
    },
    {
      "cell_type": "markdown",
      "source": [
        "# TERCER EJERCICIO"
      ],
      "metadata": {
        "id": "o8TAXNs9xCid"
      }
    },
    {
      "cell_type": "markdown",
      "source": [
        "Proporcione ejemplos de matrices 3 por 3 no nulas de los siguientes\n",
        "tipos de matrices:\n",
        "-   Una matriz diagonal\n",
        "-   Una matriz simétrica\n",
        "-   Una matriz triangular superior (es decir, que todos los elementos\n",
        "    por *debajo* de la diagonal son nulos).\n",
        "-   Una matriz antisimétrica (es decir, que su transpuesta es igual a su opuesta: $ {A}^{T}=-A $ ).\n",
        "\n"
      ],
      "metadata": {
        "id": "wQBRfh0cxP08"
      }
    },
    {
      "cell_type": "code",
      "source": [
        "v = Vector( [1,2,3] )\n",
        "print(\"Matriz diagonal\")\n",
        "display(Latex(latex(v.diag())))\n",
        "print()\n",
        "e = Vector( [1,2,3] )\n",
        "f = Vector( [2,4,5] )\n",
        "g = Vector( [3,5,6] )\n",
        "B = Matrix( [e,f,g] )\n",
        "print(\"Matriz simetrica\")\n",
        "display(Latex(latex(B)))\n",
        "print(\"A = A^T\")\n",
        "display(Latex(latex(~B)))\n",
        "print()\n",
        "h = Vector( [1,0,0] )\n",
        "i = Vector( [2,4,0] )\n",
        "j = Vector( [3,5,6] )\n",
        "C = Matrix( [h,i,j] )\n",
        "print(\"Matriz triangular superior\")\n",
        "display(Latex(latex(C)))\n",
        "print()\n",
        "k = Vector( [0,2,-3] )\n",
        "l = Vector( [-2,0,5] )\n",
        "m = Vector( [3,-5,0] )\n",
        "D = Matrix( [k,l,m] )\n",
        "print(\"Matriz antisimétrica A^T=−A\")\n",
        "print(\"A^T\")\n",
        "display(Latex(latex(~D)))\n",
        "print(\"−A\")\n",
        "display(Latex(latex(-D)))"
      ],
      "metadata": {
        "colab": {
          "base_uri": "https://localhost:8080/",
          "height": 556
        },
        "id": "zAg9yLhRxKz5",
        "outputId": "0f391067-51f7-4ae9-86c5-4a2ab0829cad"
      },
      "execution_count": null,
      "outputs": [
        {
          "output_type": "stream",
          "name": "stdout",
          "text": [
            "Matriz diagonal\n"
          ]
        },
        {
          "output_type": "display_data",
          "data": {
            "text/plain": [
              "<IPython.core.display.Latex object>"
            ],
            "text/latex": "\\left[ \\begin{array}{ccc}1&0&0\\\\0&2&0\\\\0&0&3\\\\ \\end{array} \\right]"
          },
          "metadata": {}
        },
        {
          "output_type": "stream",
          "name": "stdout",
          "text": [
            "\n",
            "Matriz simetrica\n"
          ]
        },
        {
          "output_type": "display_data",
          "data": {
            "text/plain": [
              "<IPython.core.display.Latex object>"
            ],
            "text/latex": "\\left[ \\begin{array}{ccc}1&2&3\\\\2&4&5\\\\3&5&6\\\\ \\end{array} \\right]"
          },
          "metadata": {}
        },
        {
          "output_type": "stream",
          "name": "stdout",
          "text": [
            "A = A^T\n"
          ]
        },
        {
          "output_type": "display_data",
          "data": {
            "text/plain": [
              "<IPython.core.display.Latex object>"
            ],
            "text/latex": "\\left[ \\begin{array}{ccc}1&2&3\\\\2&4&5\\\\3&5&6\\\\ \\end{array} \\right]"
          },
          "metadata": {}
        },
        {
          "output_type": "stream",
          "name": "stdout",
          "text": [
            "\n",
            "Matriz triangular superior\n"
          ]
        },
        {
          "output_type": "display_data",
          "data": {
            "text/plain": [
              "<IPython.core.display.Latex object>"
            ],
            "text/latex": "\\left[ \\begin{array}{ccc}1&2&3\\\\0&4&5\\\\0&0&6\\\\ \\end{array} \\right]"
          },
          "metadata": {}
        },
        {
          "output_type": "stream",
          "name": "stdout",
          "text": [
            "\n",
            "Matriz antisimétrica A^T=−A\n",
            "A^T\n"
          ]
        },
        {
          "output_type": "display_data",
          "data": {
            "text/plain": [
              "<IPython.core.display.Latex object>"
            ],
            "text/latex": "\\left[ \\begin{array}{ccc}0&2&-3\\\\-2&0&5\\\\3&-5&0\\\\ \\end{array} \\right]"
          },
          "metadata": {}
        },
        {
          "output_type": "stream",
          "name": "stdout",
          "text": [
            "−A\n"
          ]
        },
        {
          "output_type": "display_data",
          "data": {
            "text/plain": [
              "<IPython.core.display.Latex object>"
            ],
            "text/latex": "\\left[ \\begin{array}{ccc}0&2&-3\\\\-2&0&5\\\\3&-5&0\\\\ \\end{array} \\right]"
          },
          "metadata": {}
        }
      ]
    },
    {
      "cell_type": "markdown",
      "source": [
        "# CUARTO EJERCICIO"
      ],
      "metadata": {
        "id": "JPR3alC17arB"
      }
    },
    {
      "cell_type": "markdown",
      "source": [
        "PROPIEDADES DE UNA MATRIZ POR UN VECTOR\n",
        "\n",
        "Genere una matriz $A$ (con el número de filas y columnas que\n",
        "desee) y dos vectores ${b}$ y ${c}$ con tantos componentes\n",
        "como columnas tenga $A$."
      ],
      "metadata": {
        "id": "w7ptMRKO7llz"
      }
    },
    {
      "cell_type": "code",
      "source": [
        "e = Vector( [1,2,3] )\n",
        "f = Vector( [2,4,5] )\n",
        "g = Vector( [3,5,6] )\n",
        "B = Matrix( [e,f,g] )\n",
        "print(\"Matriz A\")\n",
        "display(Latex(latex(B)))\n",
        "n = Vector( [1,3,5] )\n",
        "print(\"Vector b\")\n",
        "display(Latex(latex(n)))\n",
        "ñ = Vector( [2,4,6] )\n",
        "print(\"Vector c\")\n",
        "display(Latex(latex(ñ)))"
      ],
      "metadata": {
        "colab": {
          "base_uri": "https://localhost:8080/",
          "height": 252
        },
        "id": "c-xysU7BA4Sj",
        "outputId": "62e6ec41-9637-4825-b9e8-49fdd12a2c17"
      },
      "execution_count": null,
      "outputs": [
        {
          "output_type": "stream",
          "name": "stdout",
          "text": [
            "Matriz A\n"
          ]
        },
        {
          "output_type": "display_data",
          "data": {
            "text/plain": [
              "<IPython.core.display.Latex object>"
            ],
            "text/latex": "\\left[ \\begin{array}{ccc}1&2&3\\\\2&4&5\\\\3&5&6\\\\ \\end{array} \\right]"
          },
          "metadata": {}
        },
        {
          "output_type": "stream",
          "name": "stdout",
          "text": [
            "Vector b\n"
          ]
        },
        {
          "output_type": "display_data",
          "data": {
            "text/plain": [
              "<IPython.core.display.Latex object>"
            ],
            "text/latex": "\\begin{pmatrix}1\\\\ 3\\\\ 5\\end{pmatrix}"
          },
          "metadata": {}
        },
        {
          "output_type": "stream",
          "name": "stdout",
          "text": [
            "Vector c\n"
          ]
        },
        {
          "output_type": "display_data",
          "data": {
            "text/plain": [
              "<IPython.core.display.Latex object>"
            ],
            "text/latex": "\\begin{pmatrix}2\\\\ 4\\\\ 6\\end{pmatrix}"
          },
          "metadata": {}
        }
      ]
    },
    {
      "cell_type": "markdown",
      "source": [
        "Y ahora verifique las propiedades vistas en el curso (en todos los\n",
        "casos, verifique sus ejemplos también con lapiz y papel... recuerde\n",
        "que primero se realizan las operaciones encerradas entre paréntesis).\n",
        "$$ A({b}+{c}) = A{b} + A{c} $$"
      ],
      "metadata": {
        "id": "CYAcxgegD9_6"
      }
    },
    {
      "cell_type": "code",
      "source": [
        "print(\"A(b + c)\")\n",
        "display(Latex(latex(B*(n+ñ))))\n",
        "print()\n",
        "print(\"Ab + Ac\")\n",
        "display(Latex(latex((B*n)+(B*ñ))))"
      ],
      "metadata": {
        "colab": {
          "base_uri": "https://localhost:8080/",
          "height": 208
        },
        "id": "jgQgI6w_GDQS",
        "outputId": "30ece3a4-4034-4e35-9079-0c020ac86a77"
      },
      "execution_count": null,
      "outputs": [
        {
          "output_type": "stream",
          "name": "stdout",
          "text": [
            "\n",
            "A(b + c)\n"
          ]
        },
        {
          "output_type": "display_data",
          "data": {
            "text/plain": [
              "<IPython.core.display.Latex object>"
            ],
            "text/latex": "\\begin{pmatrix}50\\\\ 89\\\\ 110\\end{pmatrix}"
          },
          "metadata": {}
        },
        {
          "output_type": "stream",
          "name": "stdout",
          "text": [
            "\n",
            "Ab + Ac\n"
          ]
        },
        {
          "output_type": "display_data",
          "data": {
            "text/plain": [
              "<IPython.core.display.Latex object>"
            ],
            "text/latex": "\\begin{pmatrix}50\\\\ 89\\\\ 110\\end{pmatrix}"
          },
          "metadata": {}
        }
      ]
    },
    {
      "cell_type": "markdown",
      "source": [
        "# Quinto ejercicio"
      ],
      "metadata": {
        "id": "rF75fwMsG-5U"
      }
    },
    {
      "cell_type": "markdown",
      "source": [
        "Decida un valor para el escalar $\\lambda$ y verifique que\n",
        "$$ A(\\lambda{b}) = \\lambda(A{b})$$"
      ],
      "metadata": {
        "id": "U9h_zglJHLqG"
      }
    },
    {
      "cell_type": "code",
      "source": [
        "print(\"Matrix A\")\n",
        "display(Latex(latex(B)))\n",
        "print()\n",
        "print(\"Vector b\")\n",
        "display(Latex(latex(n)))\n",
        "print()\n",
        "print(\"λ=2\")\n",
        "print()\n",
        "print()\n",
        "print(\"A(λb)=λ(Ab)\")\n",
        "print()\n",
        "print(\"A(λb)\")\n",
        "display(Latex(latex(B*(2*n))))\n",
        "print()\n",
        "print(\"λ(Ab)\")\n",
        "display(Latex(latex(2*(B*n))))"
      ],
      "metadata": {
        "colab": {
          "base_uri": "https://localhost:8080/",
          "height": 469
        },
        "id": "2qx4iWa1H9jx",
        "outputId": "a8fa3643-2d13-41ec-9e81-7d53cb11261e"
      },
      "execution_count": null,
      "outputs": [
        {
          "output_type": "stream",
          "name": "stdout",
          "text": [
            "Matrix A\n"
          ]
        },
        {
          "output_type": "display_data",
          "data": {
            "text/plain": [
              "<IPython.core.display.Latex object>"
            ],
            "text/latex": "\\left[ \\begin{array}{ccc}1&2&3\\\\2&4&5\\\\3&5&6\\\\ \\end{array} \\right]"
          },
          "metadata": {}
        },
        {
          "output_type": "stream",
          "name": "stdout",
          "text": [
            "\n",
            "Vector b\n"
          ]
        },
        {
          "output_type": "display_data",
          "data": {
            "text/plain": [
              "<IPython.core.display.Latex object>"
            ],
            "text/latex": "\\begin{pmatrix}1\\\\ 3\\\\ 5\\end{pmatrix}"
          },
          "metadata": {}
        },
        {
          "output_type": "stream",
          "name": "stdout",
          "text": [
            "\n",
            "λ=2\n",
            "\n",
            "\n",
            "A(λb)=λ(Ab)\n",
            "\n",
            "A(λb)\n"
          ]
        },
        {
          "output_type": "display_data",
          "data": {
            "text/plain": [
              "<IPython.core.display.Latex object>"
            ],
            "text/latex": "\\begin{pmatrix}44\\\\ 78\\\\ 96\\end{pmatrix}"
          },
          "metadata": {}
        },
        {
          "output_type": "stream",
          "name": "stdout",
          "text": [
            "\n",
            "λ(Ab)\n"
          ]
        },
        {
          "output_type": "display_data",
          "data": {
            "text/plain": [
              "<IPython.core.display.Latex object>"
            ],
            "text/latex": "\\begin{pmatrix}44\\\\ 78\\\\ 96\\end{pmatrix}"
          },
          "metadata": {}
        }
      ]
    },
    {
      "cell_type": "markdown",
      "source": [
        "Verifique que\n",
        "$$ A(\\lambda{b}) = (\\lambda A){b}$$\n"
      ],
      "metadata": {
        "id": "VIC_NE0wJagr"
      }
    },
    {
      "cell_type": "code",
      "source": [
        "print(\"A(λb)=(λA)b\")\n",
        "print()\n",
        "print(\"A(λb)\")\n",
        "display(Latex(latex(B*(2*n))))\n",
        "print()\n",
        "print(\"(λA)b\")\n",
        "display(Latex(latex((2*B)*n)))\n",
        "print()"
      ],
      "metadata": {
        "colab": {
          "base_uri": "https://localhost:8080/",
          "height": 243
        },
        "id": "W5S8MtwWJjqe",
        "outputId": "cd8e7e73-e23d-458d-ebe1-6327e91aeb57"
      },
      "execution_count": null,
      "outputs": [
        {
          "output_type": "stream",
          "name": "stdout",
          "text": [
            "A(λb)=(λA)b\n",
            "\n",
            "A(λb)\n"
          ]
        },
        {
          "output_type": "display_data",
          "data": {
            "text/plain": [
              "<IPython.core.display.Latex object>"
            ],
            "text/latex": "\\begin{pmatrix}44\\\\ 78\\\\ 96\\end{pmatrix}"
          },
          "metadata": {}
        },
        {
          "output_type": "stream",
          "name": "stdout",
          "text": [
            "\n",
            "(λA)b\n"
          ]
        },
        {
          "output_type": "display_data",
          "data": {
            "text/plain": [
              "<IPython.core.display.Latex object>"
            ],
            "text/latex": "\\begin{pmatrix}44\\\\ 78\\\\ 96\\end{pmatrix}"
          },
          "metadata": {}
        },
        {
          "output_type": "stream",
          "name": "stdout",
          "text": [
            "\n"
          ]
        }
      ]
    },
    {
      "cell_type": "markdown",
      "source": [
        "Compuebe que en este caso no son necesarios los paréntesis:\n",
        "$$\\lambda A{b}\\;$$ (aunque en Python siempre necesite\n",
        "escribir los símbolos de producto `*`). Pruebe a colocar el escalar en\n",
        "cualquier posición, pero mantenga la matriz a la izquierda del vector."
      ],
      "metadata": {
        "id": "pogWjjMcQRM7"
      }
    },
    {
      "cell_type": "code",
      "source": [
        "print(\"λAb\")\n",
        "display(Latex(latex(B*2*n)))"
      ],
      "metadata": {
        "colab": {
          "base_uri": "https://localhost:8080/",
          "height": 95
        },
        "id": "yRz580EHQV9_",
        "outputId": "2c60967a-6d05-4e5f-9a5a-08f7262e7c3b"
      },
      "execution_count": null,
      "outputs": [
        {
          "output_type": "stream",
          "name": "stdout",
          "text": [
            "λAb\n"
          ]
        },
        {
          "output_type": "display_data",
          "data": {
            "text/plain": [
              "<IPython.core.display.Latex object>"
            ],
            "text/latex": "\\begin{pmatrix}44\\\\ 78\\\\ 96\\end{pmatrix}"
          },
          "metadata": {}
        }
      ]
    },
    {
      "cell_type": "markdown",
      "source": [
        "# SEXTO EJERCICIO"
      ],
      "metadata": {
        "id": "O6B6W-xmRpCR"
      }
    },
    {
      "cell_type": "markdown",
      "source": [
        "Genere una matriz ${B}$ del mismo orden que $A$"
      ],
      "metadata": {
        "id": "xvXVj9DbR3jp"
      }
    },
    {
      "cell_type": "code",
      "source": [
        "print(\"Matrix A\")\n",
        "display(Latex(latex(B)))\n",
        "print()\n",
        "x = Vector( [1,2,3] )\n",
        "y = Vector( [2,4,5] )\n",
        "z = Vector( [3,5,6] )\n",
        "F = Matrix( [e,f,g] )\n",
        "print(\"Matriz B\")\n",
        "display(Latex(latex(F)))\n"
      ],
      "metadata": {
        "colab": {
          "base_uri": "https://localhost:8080/",
          "height": 191
        },
        "id": "P3ShGPGVUUjJ",
        "outputId": "1e8a19f8-9799-41ca-f947-bb82f44c1404"
      },
      "execution_count": null,
      "outputs": [
        {
          "output_type": "stream",
          "name": "stdout",
          "text": [
            "Matrix A\n"
          ]
        },
        {
          "output_type": "display_data",
          "data": {
            "text/plain": [
              "<IPython.core.display.Latex object>"
            ],
            "text/latex": "\\left[ \\begin{array}{ccc}1&2&3\\\\2&4&5\\\\3&5&6\\\\ \\end{array} \\right]"
          },
          "metadata": {}
        },
        {
          "output_type": "stream",
          "name": "stdout",
          "text": [
            "\n",
            "Matriz B\n"
          ]
        },
        {
          "output_type": "display_data",
          "data": {
            "text/plain": [
              "<IPython.core.display.Latex object>"
            ],
            "text/latex": "\\left[ \\begin{array}{ccc}1&2&3\\\\2&4&5\\\\3&5&6\\\\ \\end{array} \\right]"
          },
          "metadata": {}
        }
      ]
    },
    {
      "cell_type": "markdown",
      "source": [
        "Verifique que\n",
        "\n",
        "$$ (A+B){c} = A{c} + B{c}$$"
      ],
      "metadata": {
        "id": "fDVzJ4vnVLgc"
      }
    },
    {
      "cell_type": "code",
      "source": [
        "print(\"Vector c\")\n",
        "display(Latex(latex(ñ)))\n",
        "print()\n",
        "print(\"(A+B)c\")\n",
        "display(Latex(latex((B+F)*ñ)))\n",
        "print()\n",
        "print(\"Ac+Bc\")\n",
        "display(Latex(latex((B*ñ)+(F*ñ))))"
      ],
      "metadata": {
        "colab": {
          "base_uri": "https://localhost:8080/",
          "height": 287
        },
        "id": "_Fo3V4uHVPlU",
        "outputId": "2b3f219c-a5b1-4868-ab0a-2193bc38cfd8"
      },
      "execution_count": null,
      "outputs": [
        {
          "output_type": "stream",
          "name": "stdout",
          "text": [
            "Vector c\n"
          ]
        },
        {
          "output_type": "display_data",
          "data": {
            "text/plain": [
              "<IPython.core.display.Latex object>"
            ],
            "text/latex": "\\begin{pmatrix}2\\\\ 4\\\\ 6\\end{pmatrix}"
          },
          "metadata": {}
        },
        {
          "output_type": "stream",
          "name": "stdout",
          "text": [
            "\n",
            "(A+B)c\n"
          ]
        },
        {
          "output_type": "display_data",
          "data": {
            "text/plain": [
              "<IPython.core.display.Latex object>"
            ],
            "text/latex": "\\begin{pmatrix}56\\\\ 100\\\\ 124\\end{pmatrix}"
          },
          "metadata": {}
        },
        {
          "output_type": "stream",
          "name": "stdout",
          "text": [
            "\n",
            "Ac+Bc\n"
          ]
        },
        {
          "output_type": "display_data",
          "data": {
            "text/plain": [
              "<IPython.core.display.Latex object>"
            ],
            "text/latex": "\\begin{pmatrix}56\\\\ 100\\\\ 124\\end{pmatrix}"
          },
          "metadata": {}
        }
      ]
    },
    {
      "cell_type": "markdown",
      "source": [
        "#Dos propiedades de la transposición\n",
        "\n",
        "Recuerde que `~A` es la transpuesta de `A`.\n",
        "\n",
        "Verfique que\n",
        "$$(A+B)^T=A^{T}+B^{T}$$"
      ],
      "metadata": {
        "id": "fjD7Hy-YcrrN"
      }
    },
    {
      "cell_type": "code",
      "source": [
        "print(\"(A+B)^T\")\n",
        "display(Latex(latex(~(B+F))))\n",
        "print()\n",
        "print(\"A^T+B^T\")\n",
        "display(Latex(latex(~B+~F)))\n",
        "print()"
      ],
      "metadata": {
        "colab": {
          "base_uri": "https://localhost:8080/",
          "height": 208
        },
        "id": "YkEAodIFc-JI",
        "outputId": "ba6ad45c-a186-432a-9c75-bda1929f275a"
      },
      "execution_count": null,
      "outputs": [
        {
          "output_type": "stream",
          "name": "stdout",
          "text": [
            "(A+B)^T\n"
          ]
        },
        {
          "output_type": "display_data",
          "data": {
            "text/plain": [
              "<IPython.core.display.Latex object>"
            ],
            "text/latex": "\\left[ \\begin{array}{ccc}2&4&6\\\\4&8&10\\\\6&10&12\\\\ \\end{array} \\right]"
          },
          "metadata": {}
        },
        {
          "output_type": "stream",
          "name": "stdout",
          "text": [
            "\n",
            "A^T+B^T\n"
          ]
        },
        {
          "output_type": "display_data",
          "data": {
            "text/plain": [
              "<IPython.core.display.Latex object>"
            ],
            "text/latex": "\\left[ \\begin{array}{ccc}2&4&6\\\\4&8&10\\\\6&10&12\\\\ \\end{array} \\right]"
          },
          "metadata": {}
        },
        {
          "output_type": "stream",
          "name": "stdout",
          "text": [
            "\n"
          ]
        }
      ]
    },
    {
      "cell_type": "markdown",
      "source": [
        "¿Necesitamos usar paréntesis para el lado izquierdo? ¿Y para el derecho?\n",
        "Decida un valor para $\\lambda$ y verfique que\n",
        "$$(\\lambda A)^T=\\lambda(A^{T})$$"
      ],
      "metadata": {
        "id": "Fecynph9gZGr"
      }
    },
    {
      "cell_type": "code",
      "source": [
        "print(\"λ=2\")\n",
        "print()\n",
        "print(\"(λA)^T\")\n",
        "display(Latex(latex(~(2*B))))\n",
        "print()\n",
        "print(\"λ(A)^T\")\n",
        "display(Latex(latex(2*(~B))))\n",
        "print()"
      ],
      "metadata": {
        "colab": {
          "base_uri": "https://localhost:8080/",
          "height": 243
        },
        "id": "nS9nUbxBgr2K",
        "outputId": "06f09272-aeeb-4dbb-fcc2-175fec8fa2d2"
      },
      "execution_count": null,
      "outputs": [
        {
          "output_type": "stream",
          "name": "stdout",
          "text": [
            "λ=2\n",
            "\n",
            "(λA)^T\n"
          ]
        },
        {
          "output_type": "display_data",
          "data": {
            "text/plain": [
              "<IPython.core.display.Latex object>"
            ],
            "text/latex": "\\left[ \\begin{array}{ccc}2&4&6\\\\4&8&10\\\\6&10&12\\\\ \\end{array} \\right]"
          },
          "metadata": {}
        },
        {
          "output_type": "stream",
          "name": "stdout",
          "text": [
            "\n",
            "λ(A)^T\n"
          ]
        },
        {
          "output_type": "display_data",
          "data": {
            "text/plain": [
              "<IPython.core.display.Latex object>"
            ],
            "text/latex": "\\left[ \\begin{array}{ccc}2&4&6\\\\4&8&10\\\\6&10&12\\\\ \\end{array} \\right]"
          },
          "metadata": {}
        },
        {
          "output_type": "stream",
          "name": "stdout",
          "text": [
            "\n"
          ]
        }
      ]
    }
  ]
}