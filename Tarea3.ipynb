{
  "nbformat": 4,
  "nbformat_minor": 0,
  "metadata": {
    "colab": {
      "provenance": [],
      "authorship_tag": "ABX9TyNPgnP+UM4CuoDkgStk6S5j",
      "include_colab_link": true
    },
    "kernelspec": {
      "name": "python3",
      "display_name": "Python 3"
    },
    "language_info": {
      "name": "python"
    }
  },
  "cells": [
    {
      "cell_type": "markdown",
      "metadata": {
        "id": "view-in-github",
        "colab_type": "text"
      },
      "source": [
        "<a href=\"https://colab.research.google.com/github/URIEL-GB/AlgebraLineal/blob/main/Tarea3.ipynb\" target=\"_parent\"><img src=\"https://colab.research.google.com/assets/colab-badge.svg\" alt=\"Open In Colab\"/></a>"
      ]
    },
    {
      "cell_type": "markdown",
      "source": [
        "# TAREA 3 EJERCICIOS PAGINA 27"
      ],
      "metadata": {
        "id": "iDws18nzcYM7"
      }
    },
    {
      "cell_type": "code",
      "source": [
        "!pip install --target=$nb_path nacal\n",
        "from nacal import *\n",
        "from IPython.display import display, Math, Latex"
      ],
      "metadata": {
        "colab": {
          "base_uri": "https://localhost:8080/"
        },
        "id": "_bwp4EoEcmVf",
        "outputId": "edbc0c29-3fdf-4511-fa85-7c82ae2eb73e"
      },
      "execution_count": null,
      "outputs": [
        {
          "output_type": "stream",
          "name": "stdout",
          "text": [
            "Requirement already satisfied: nacal in /usr/local/lib/python3.10/dist-packages (0.1.30)\n",
            "Requirement already satisfied: sympy>=1.1.0 in /usr/local/lib/python3.10/dist-packages (from nacal) (1.12)\n",
            "Requirement already satisfied: mpmath>=0.19 in /usr/local/lib/python3.10/dist-packages (from sympy>=1.1.0->nacal) (1.3.0)\n"
          ]
        }
      ]
    },
    {
      "cell_type": "markdown",
      "source": [
        "**1.A(b + c)= Ab + Ac**"
      ],
      "metadata": {
        "id": "BR7ZWJIUcuSW"
      }
    },
    {
      "cell_type": "code",
      "source": [
        "d = Vector( [2,4,6] )\n",
        "e = Vector( [8,10,12] )\n",
        "f = Vector( [14,16,18] )\n",
        "A = Matrix( [d,e,f] )\n",
        "print(\"Matrix A\")\n",
        "display(Latex(latex(A)))\n",
        "print()\n",
        "b = Vector( [1,2,3] )\n",
        "print(\"Vector b\")\n",
        "display(Latex(latex(b)))\n",
        "print()\n",
        "c = Vector( [4,5,6] )\n",
        "print(\"Vector c\")\n",
        "display(Latex(latex(c)))\n",
        "print()\n",
        "print()\n",
        "print(\"A(b + c)\")\n",
        "display(Latex(latex(A*(b+c))))\n",
        "print()\n",
        "print(\"Ab + Ac\")\n",
        "display(Latex(latex((A*b)+(A*c))))\n"
      ],
      "metadata": {
        "colab": {
          "base_uri": "https://localhost:8080/",
          "height": 495
        },
        "id": "pR-oZLDwdiom",
        "outputId": "b5b75e1f-3fe5-466b-bb21-0eb543db392b"
      },
      "execution_count": null,
      "outputs": [
        {
          "output_type": "stream",
          "name": "stdout",
          "text": [
            "Matrix A\n"
          ]
        },
        {
          "output_type": "display_data",
          "data": {
            "text/plain": [
              "<IPython.core.display.Latex object>"
            ],
            "text/latex": "\\left[ \\begin{array}{ccc}2&8&14\\\\4&10&16\\\\6&12&18\\\\ \\end{array} \\right]"
          },
          "metadata": {}
        },
        {
          "output_type": "stream",
          "name": "stdout",
          "text": [
            "\n",
            "Vector b\n"
          ]
        },
        {
          "output_type": "display_data",
          "data": {
            "text/plain": [
              "<IPython.core.display.Latex object>"
            ],
            "text/latex": "\\begin{pmatrix}1\\\\ 2\\\\ 3\\end{pmatrix}"
          },
          "metadata": {}
        },
        {
          "output_type": "stream",
          "name": "stdout",
          "text": [
            "\n",
            "Vector c\n"
          ]
        },
        {
          "output_type": "display_data",
          "data": {
            "text/plain": [
              "<IPython.core.display.Latex object>"
            ],
            "text/latex": "\\begin{pmatrix}4\\\\ 5\\\\ 6\\end{pmatrix}"
          },
          "metadata": {}
        },
        {
          "output_type": "stream",
          "name": "stdout",
          "text": [
            "\n",
            "\n",
            "A(b + c)\n"
          ]
        },
        {
          "output_type": "display_data",
          "data": {
            "text/plain": [
              "<IPython.core.display.Latex object>"
            ],
            "text/latex": "\\begin{pmatrix}192\\\\ 234\\\\ 276\\end{pmatrix}"
          },
          "metadata": {}
        },
        {
          "output_type": "stream",
          "name": "stdout",
          "text": [
            "\n",
            "Ab + Ac\n"
          ]
        },
        {
          "output_type": "display_data",
          "data": {
            "text/plain": [
              "<IPython.core.display.Latex object>"
            ],
            "text/latex": "\\begin{pmatrix}192\\\\ 234\\\\ 276\\end{pmatrix}"
          },
          "metadata": {}
        }
      ]
    },
    {
      "cell_type": "markdown",
      "source": [
        "**2.A(λb) = λ(Ab)**"
      ],
      "metadata": {
        "id": "1iTWnPoxsqA5"
      }
    },
    {
      "cell_type": "code",
      "source": [
        "d = Vector( [2,4,6] )\n",
        "e = Vector( [8,10,12] )\n",
        "f = Vector( [14,16,18] )\n",
        "A = Matrix( [d,e,f] )\n",
        "print(\"Matrix A\")\n",
        "display(Latex(latex(A)))\n",
        "print()\n",
        "b = Vector( [1,2,3] )\n",
        "print(\"Vector b\")\n",
        "display(Latex(latex(b)))\n",
        "print()\n",
        "print()\n",
        "print(\"λ=2\")\n",
        "print()\n",
        "print(\"A(λb)\")\n",
        "display(Latex(latex(A*(2*b))))\n",
        "print()\n",
        "print(\"λ(Ab)\")\n",
        "display(Latex(latex(2*(A*b))))"
      ],
      "metadata": {
        "colab": {
          "base_uri": "https://localhost:8080/",
          "height": 434
        },
        "id": "iZvKjHbps5Ix",
        "outputId": "1065a4aa-c219-4dbc-e109-da73acd1236d"
      },
      "execution_count": null,
      "outputs": [
        {
          "output_type": "stream",
          "name": "stdout",
          "text": [
            "Matrix A\n"
          ]
        },
        {
          "output_type": "display_data",
          "data": {
            "text/plain": [
              "<IPython.core.display.Latex object>"
            ],
            "text/latex": "\\left[ \\begin{array}{ccc}2&8&14\\\\4&10&16\\\\6&12&18\\\\ \\end{array} \\right]"
          },
          "metadata": {}
        },
        {
          "output_type": "stream",
          "name": "stdout",
          "text": [
            "\n",
            "Vector b\n"
          ]
        },
        {
          "output_type": "display_data",
          "data": {
            "text/plain": [
              "<IPython.core.display.Latex object>"
            ],
            "text/latex": "\\begin{pmatrix}1\\\\ 2\\\\ 3\\end{pmatrix}"
          },
          "metadata": {}
        },
        {
          "output_type": "stream",
          "name": "stdout",
          "text": [
            "\n",
            "\n",
            "λ=2\n",
            "\n",
            "A(λb)\n"
          ]
        },
        {
          "output_type": "display_data",
          "data": {
            "text/plain": [
              "<IPython.core.display.Latex object>"
            ],
            "text/latex": "\\begin{pmatrix}120\\\\ 144\\\\ 168\\end{pmatrix}"
          },
          "metadata": {}
        },
        {
          "output_type": "stream",
          "name": "stdout",
          "text": [
            "\n",
            "λ(Ab)\n"
          ]
        },
        {
          "output_type": "display_data",
          "data": {
            "text/plain": [
              "<IPython.core.display.Latex object>"
            ],
            "text/latex": "\\begin{pmatrix}120\\\\ 144\\\\ 168\\end{pmatrix}"
          },
          "metadata": {}
        }
      ]
    },
    {
      "cell_type": "markdown",
      "source": [
        "**3.(A + B)c = Ac + Bc**"
      ],
      "metadata": {
        "id": "rQ7knGKn9IqH"
      }
    },
    {
      "cell_type": "code",
      "source": [
        "d = Vector( [1,3,5] )\n",
        "e = Vector( [7,9,11] )\n",
        "f = Vector( [13,15,17] )\n",
        "A = Matrix( [d,e,f] )\n",
        "print(\"Matrix A\")\n",
        "display(Latex(latex(A)))\n",
        "print()\n",
        "g = Vector( [2,4,6] )\n",
        "h = Vector( [8,10,12] )\n",
        "i = Vector( [14,16,18] )\n",
        "B = Matrix( [g,h,i] )\n",
        "print(\"Matrix B\")\n",
        "display(Latex(latex(B)))\n",
        "print()\n",
        "c = Vector( [4,5,6] )\n",
        "print(\"Vector c\")\n",
        "display(Latex(latex(c)))\n",
        "print()\n",
        "print()\n",
        "print(\"(A+B)c\")\n",
        "display(Latex(latex((A+B)*c)))\n",
        "print()\n",
        "print(\"Ac+Bc\")\n",
        "display(Latex(latex((A*c)+(B*c))))"
      ],
      "metadata": {
        "colab": {
          "base_uri": "https://localhost:8080/",
          "height": 495
        },
        "id": "i1khgihE-AJh",
        "outputId": "9e173bb6-2ef5-41c4-f528-43e75742423d"
      },
      "execution_count": null,
      "outputs": [
        {
          "output_type": "stream",
          "name": "stdout",
          "text": [
            "Matrix A\n"
          ]
        },
        {
          "output_type": "display_data",
          "data": {
            "text/plain": [
              "<IPython.core.display.Latex object>"
            ],
            "text/latex": "\\left[ \\begin{array}{ccc}1&7&13\\\\3&9&15\\\\5&11&17\\\\ \\end{array} \\right]"
          },
          "metadata": {}
        },
        {
          "output_type": "stream",
          "name": "stdout",
          "text": [
            "\n",
            "Matrix B\n"
          ]
        },
        {
          "output_type": "display_data",
          "data": {
            "text/plain": [
              "<IPython.core.display.Latex object>"
            ],
            "text/latex": "\\left[ \\begin{array}{ccc}2&8&14\\\\4&10&16\\\\6&12&18\\\\ \\end{array} \\right]"
          },
          "metadata": {}
        },
        {
          "output_type": "stream",
          "name": "stdout",
          "text": [
            "\n",
            "Vector c\n"
          ]
        },
        {
          "output_type": "display_data",
          "data": {
            "text/plain": [
              "<IPython.core.display.Latex object>"
            ],
            "text/latex": "\\begin{pmatrix}4\\\\ 5\\\\ 6\\end{pmatrix}"
          },
          "metadata": {}
        },
        {
          "output_type": "stream",
          "name": "stdout",
          "text": [
            "\n",
            "\n",
            "(A+B)c\n"
          ]
        },
        {
          "output_type": "display_data",
          "data": {
            "text/plain": [
              "<IPython.core.display.Latex object>"
            ],
            "text/latex": "\\begin{pmatrix}249\\\\ 309\\\\ 369\\end{pmatrix}"
          },
          "metadata": {}
        },
        {
          "output_type": "stream",
          "name": "stdout",
          "text": [
            "\n",
            "Ac+Bc\n"
          ]
        },
        {
          "output_type": "display_data",
          "data": {
            "text/plain": [
              "<IPython.core.display.Latex object>"
            ],
            "text/latex": "\\begin{pmatrix}249\\\\ 309\\\\ 369\\end{pmatrix}"
          },
          "metadata": {}
        }
      ]
    },
    {
      "cell_type": "markdown",
      "source": [
        "**4.(λA)b = λ(Ab)**"
      ],
      "metadata": {
        "id": "kd0oOBCNFWSk"
      }
    },
    {
      "cell_type": "code",
      "source": [
        "d = Vector( [2,4,6] )\n",
        "e = Vector( [8,10,12] )\n",
        "f = Vector( [14,16,18] )\n",
        "A = Matrix( [d,e,f] )\n",
        "print(\"Matrix A\")\n",
        "display(Latex(latex(A)))\n",
        "print()\n",
        "b = Vector( [1,2,3] )\n",
        "print(\"Vector b\")\n",
        "display(Latex(latex(b)))\n",
        "print()\n",
        "print()\n",
        "print(\"λ=2\")\n",
        "print()\n",
        "print(\"(λA)b\")\n",
        "display(Latex(latex((2*A)*b)))\n",
        "print()\n",
        "print(\"λ(Ab)\")\n",
        "display(Latex(latex(2*(A*b))))"
      ],
      "metadata": {
        "colab": {
          "base_uri": "https://localhost:8080/",
          "height": 434
        },
        "id": "UrjFFrhRFemF",
        "outputId": "1a0b897a-b218-4328-9b9b-472e0ebb021d"
      },
      "execution_count": null,
      "outputs": [
        {
          "output_type": "stream",
          "name": "stdout",
          "text": [
            "Matrix A\n"
          ]
        },
        {
          "output_type": "display_data",
          "data": {
            "text/plain": [
              "<IPython.core.display.Latex object>"
            ],
            "text/latex": "\\left[ \\begin{array}{ccc}2&8&14\\\\4&10&16\\\\6&12&18\\\\ \\end{array} \\right]"
          },
          "metadata": {}
        },
        {
          "output_type": "stream",
          "name": "stdout",
          "text": [
            "\n",
            "Vector b\n"
          ]
        },
        {
          "output_type": "display_data",
          "data": {
            "text/plain": [
              "<IPython.core.display.Latex object>"
            ],
            "text/latex": "\\begin{pmatrix}1\\\\ 2\\\\ 3\\end{pmatrix}"
          },
          "metadata": {}
        },
        {
          "output_type": "stream",
          "name": "stdout",
          "text": [
            "\n",
            "\n",
            "λ=2\n",
            "\n",
            "(λA)b\n"
          ]
        },
        {
          "output_type": "display_data",
          "data": {
            "text/plain": [
              "<IPython.core.display.Latex object>"
            ],
            "text/latex": "\\begin{pmatrix}120\\\\ 144\\\\ 168\\end{pmatrix}"
          },
          "metadata": {}
        },
        {
          "output_type": "stream",
          "name": "stdout",
          "text": [
            "\n",
            "λ(Ab)\n"
          ]
        },
        {
          "output_type": "display_data",
          "data": {
            "text/plain": [
              "<IPython.core.display.Latex object>"
            ],
            "text/latex": "\\begin{pmatrix}120\\\\ 144\\\\ 168\\end{pmatrix}"
          },
          "metadata": {}
        }
      ]
    }
  ]
}